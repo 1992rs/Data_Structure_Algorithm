{
  "nbformat": 4,
  "nbformat_minor": 0,
  "metadata": {
    "colab": {
      "provenance": [],
      "collapsed_sections": []
    },
    "kernelspec": {
      "name": "python3",
      "display_name": "Python 3"
    },
    "language_info": {
      "name": "python"
    }
  },
  "cells": [
    {
      "cell_type": "markdown",
      "source": [
        "**Stock Span**"
      ],
      "metadata": {
        "id": "0_7sSD_uJ6BW"
      }
    },
    {
      "cell_type": "code",
      "source": [
        "n = int(input('enter the size that you want to insert into list'))\n",
        "s = [0 for i in range(n)]\n",
        "q = [int(n) for n in input().split()]\n",
        "s[0] = 1\n",
        "for i in range(1,n):\n",
        "  s[i] = 1\n",
        "  j = i-1\n",
        "  while j>=0 and q[i] > q[j]:\n",
        "    s[i] += 1\n",
        "    j -= 1\n",
        "print(s)"
      ],
      "metadata": {
        "colab": {
          "base_uri": "https://localhost:8080/"
        },
        "id": "KT5WU6S_HS4-",
        "outputId": "8fece866-8339-4bad-ffea-1e5914b6ac60"
      },
      "execution_count": 8,
      "outputs": [
        {
          "output_type": "stream",
          "name": "stdout",
          "text": [
            "enter the size that you want to insert into list7\n",
            "10 20 30 40 50 60 70\n",
            "[1, 2, 3, 4, 5, 6, 7]\n"
          ]
        }
      ]
    },
    {
      "cell_type": "markdown",
      "source": [
        "**Reverse Stack**"
      ],
      "metadata": {
        "id": "WniKTzpqECxN"
      }
    },
    {
      "cell_type": "code",
      "source": [
        "def reversestack(s1,s2):\n",
        "  if len(s1)==1:\n",
        "    return\n",
        "  while(len(s1)!= 1):\n",
        "    ele = s1.pop()\n",
        "    s2.append(ele)\n",
        "  last_ele = s1.pop()\n",
        "  while(len(s2)!=0):\n",
        "    ele = s2.pop()\n",
        "    s1.append(ele)\n",
        "  reversestack(s1,s2)\n",
        "  s1.append(last_ele)\n",
        "n = int(input('enter the size that you want to insert into stack'))\n",
        "s1 = [int(n) for n in input().split()]\n",
        "s2 = []\n",
        "reversestack(s1 , s2)\n",
        "while(len(s1)!=0):\n",
        "  print(s1.pop(), end = ' ')"
      ],
      "metadata": {
        "colab": {
          "base_uri": "https://localhost:8080/"
        },
        "id": "mqEauo4uEFu3",
        "outputId": "cb006239-3f3e-4033-f5e0-546f6730ceba"
      },
      "execution_count": 3,
      "outputs": [
        {
          "output_type": "stream",
          "name": "stdout",
          "text": [
            "enter the size that you want to insert into stack5\n",
            "2 3 4 5 6\n",
            "2 3 4 5 6 "
          ]
        }
      ]
    },
    {
      "cell_type": "markdown",
      "source": [
        "**Reverse of number**"
      ],
      "metadata": {
        "id": "VWKxoAI5J5Ut"
      }
    },
    {
      "cell_type": "code",
      "source": [
        "num = int(input('enter the number'))\n",
        "rev = 0\n",
        "while(num > 0):\n",
        "  dig = num%10\n",
        "  rev = rev * 10+dig\n",
        "  num = num//10\n",
        "\n",
        "print('reverse of number', rev)\n"
      ],
      "metadata": {
        "id": "8XRM8T9LJ8eC",
        "colab": {
          "base_uri": "https://localhost:8080/"
        },
        "outputId": "7b909ca4-2f50-4a1e-968c-65243111d078"
      },
      "execution_count": null,
      "outputs": [
        {
          "output_type": "stream",
          "name": "stdout",
          "text": [
            "enter the number312\n",
            "reverse of number 213\n"
          ]
        }
      ]
    },
    {
      "cell_type": "markdown",
      "source": [
        "**Print table of number**"
      ],
      "metadata": {
        "id": "IKsgfarSImGj"
      }
    },
    {
      "cell_type": "code",
      "source": [
        "num = int(input('enter the number'))\n",
        "for i in range(1,11):\n",
        "  #print('{} X {} = {}'.format(num , i , num*i))\n",
        "  print(num, '*', i, '=' ,num*i)"
      ],
      "metadata": {
        "colab": {
          "base_uri": "https://localhost:8080/"
        },
        "id": "R3cAF_v9IpeA",
        "outputId": "3528bc40-53d9-48ee-a5f2-7ac2a343cc72"
      },
      "execution_count": null,
      "outputs": [
        {
          "output_type": "stream",
          "name": "stdout",
          "text": [
            "enter the number10\n",
            "10 * 1 = 10\n",
            "10 * 2 = 20\n",
            "10 * 3 = 30\n",
            "10 * 4 = 40\n",
            "10 * 5 = 50\n",
            "10 * 6 = 60\n",
            "10 * 7 = 70\n",
            "10 * 8 = 80\n",
            "10 * 9 = 90\n",
            "10 * 10 = 100\n"
          ]
        }
      ]
    },
    {
      "cell_type": "markdown",
      "source": [
        "**Factorial without using recursion function**"
      ],
      "metadata": {
        "id": "KxH4u2AYFAU4"
      }
    },
    {
      "cell_type": "code",
      "source": [
        "num = int(input('enter the number'))\n",
        "factorial = 1\n",
        "if num < 0:\n",
        "  print('factorial is not possible for this number')\n",
        "\n",
        "elif num == 0:\n",
        "  print('factorial of zero is 1')\n",
        "\n",
        "elif num == 1:\n",
        "  print('factorial of 1 is 1')\n",
        "\n",
        "else:\n",
        "  for i in range(1,num+1):\n",
        "    factorial = factorial * i\n",
        "print('factorial of given number', factorial)"
      ],
      "metadata": {
        "colab": {
          "base_uri": "https://localhost:8080/"
        },
        "id": "ps20d36jFEit",
        "outputId": "a7232ed8-2c1a-487b-a6b9-953a79587878"
      },
      "execution_count": null,
      "outputs": [
        {
          "output_type": "stream",
          "name": "stdout",
          "text": [
            "enter the number5\n",
            "factorial of given number 120\n"
          ]
        }
      ]
    },
    {
      "cell_type": "markdown",
      "source": [
        "**factorial of number**"
      ],
      "metadata": {
        "id": "weHm8xbUDezd"
      }
    },
    {
      "cell_type": "code",
      "source": [
        "num = int(input('enter the number'))\n",
        "def fact(n):\n",
        "  if n == 1:\n",
        "    return 1\n",
        "  else:\n",
        "    return n * (fact(n-1))\n",
        "q = fact(num)\n",
        "print(q)\n"
      ],
      "metadata": {
        "colab": {
          "base_uri": "https://localhost:8080/"
        },
        "id": "NDfRmDibDh31",
        "outputId": "f7f7dbaf-eebb-4ded-997b-99de1d327492"
      },
      "execution_count": null,
      "outputs": [
        {
          "output_type": "stream",
          "name": "stdout",
          "text": [
            "enter the number5\n",
            "120\n"
          ]
        }
      ]
    },
    {
      "cell_type": "markdown",
      "source": [
        "**Find whether a number is prime or not**"
      ],
      "metadata": {
        "id": "YJY-ZRsXA6X9"
      }
    },
    {
      "cell_type": "code",
      "source": [
        "num = int(input('enter a number'))\n",
        "if num > 1:\n",
        "  for i in range(2, num):\n",
        "    if (num % i) == 0:\n",
        "      print(num , ' is not prime')\n",
        "      break\n",
        "    else:\n",
        "      print(num , 'is prime')\n",
        "      break\n",
        "else:\n",
        "  print('number should not be 1 or less than 1')"
      ],
      "metadata": {
        "colab": {
          "base_uri": "https://localhost:8080/"
        },
        "id": "D5p7qtSEBAB0",
        "outputId": "f44dabb4-8e91-48f8-b373-9788d2d00787"
      },
      "execution_count": null,
      "outputs": [
        {
          "output_type": "stream",
          "name": "stdout",
          "text": [
            "enter a number14\n",
            "14  is not prime\n",
            "14  is not prime\n",
            "14 is prime\n"
          ]
        }
      ]
    },
    {
      "cell_type": "markdown",
      "source": [
        "**Using stack and checking te parantheses**"
      ],
      "metadata": {
        "id": "SVtXliKSVG8W"
      }
    },
    {
      "cell_type": "code",
      "source": [
        "par = input()\n",
        "def check_parantheses(par):\n",
        "  c = []\n",
        "  for ele in par:\n",
        "    if ele in '({[':\n",
        "      c.append(ele)\n",
        "    if ele in ')':\n",
        "      if (not par or par[-1] != '('):\n",
        "        return False\n",
        "      else:\n",
        "        c.pop()\n",
        "    if ele in '}':\n",
        "      if (not par or par[-1] != '{'):\n",
        "        return False\n",
        "      else:\n",
        "        c.pop()\n",
        "\n",
        "    if ele in ']':\n",
        "      if (not par or par[-1] != '['):\n",
        "        return False\n",
        "      else: \n",
        "        c.pop()\n",
        "\n",
        "\n",
        "if check_parantheses(par):\n",
        "  print('true')\n",
        "else:\n",
        "  print('false')\n",
        "    "
      ],
      "metadata": {
        "colab": {
          "base_uri": "https://localhost:8080/"
        },
        "id": "ByszGTagVGf1",
        "outputId": "93763785-536f-4b53-bf40-6107595fb1b9"
      },
      "execution_count": null,
      "outputs": [
        {
          "output_type": "stream",
          "name": "stdout",
          "text": [
            "(()()())\n",
            "false\n"
          ]
        }
      ]
    },
    {
      "cell_type": "markdown",
      "source": [
        "**check array how many times rotation is required to sort it**"
      ],
      "metadata": {
        "id": "32Sfm18v_AyW"
      }
    },
    {
      "cell_type": "code",
      "source": [
        "n = int(input())\n",
        "arr1 = [int(x) for x in input().split()]\n",
        "for i in range(len(arr1)):\n",
        "  if arr1[i] > arr1[i+1]:\n",
        "    print('rotation required', i+1)\n",
        "    break\n"
      ],
      "metadata": {
        "colab": {
          "base_uri": "https://localhost:8080/"
        },
        "id": "aLnaklSL_R_t",
        "outputId": "50bc62a1-01d1-4ceb-f1dc-4241fdaf27d0"
      },
      "execution_count": null,
      "outputs": [
        {
          "output_type": "stream",
          "name": "stdout",
          "text": [
            "6\n",
            "5 6 1 2 3 4\n",
            "rotation required 2\n"
          ]
        }
      ]
    },
    {
      "cell_type": "markdown",
      "source": [
        "**Second largest element in the array**"
      ],
      "metadata": {
        "id": "dWmQ6b_M8TsB"
      }
    },
    {
      "cell_type": "code",
      "source": [
        "n = int(input())\n",
        "arr1 = [int(x) for x in input().split()]\n",
        "L = -1\n",
        "SL = -1\n",
        "for i in range(len(arr1)):\n",
        "  if arr1[i] > L:\n",
        "    SL = L\n",
        "    L = arr1[i]\n",
        "  \n",
        "  if arr1[i] > SL and arr1[i] < L:\n",
        "    SL = arr1[i]\n",
        "\n",
        "print('Second largest', SL)"
      ],
      "metadata": {
        "colab": {
          "base_uri": "https://localhost:8080/"
        },
        "id": "uTgC56CD8ZI6",
        "outputId": "6b0abded-3d26-4df1-8dfd-3e4d8353f2f5"
      },
      "execution_count": null,
      "outputs": [
        {
          "output_type": "stream",
          "name": "stdout",
          "text": [
            "5\n",
            "3 6 8 10 12\n",
            "Second largest 10\n"
          ]
        }
      ]
    },
    {
      "cell_type": "markdown",
      "source": [
        "**Rotate** **the** **array**"
      ],
      "metadata": {
        "id": "DCqjtHhP1vgK"
      }
    },
    {
      "cell_type": "code",
      "source": [
        "def rotate_array(arr1 , d):\n",
        "  for i in range(d):\n",
        "    temp = arr1[0]\n",
        "    for j in range(len(arr1)-1):\n",
        "      arr1[j] = arr1[j+1]\n",
        "    arr1[len(arr1)-1] = temp\n",
        "  return arr1\n",
        "a = int(input())\n",
        "arr1 = [int(x) for x in input().split()]\n",
        "d = int(input())\n",
        "q = rotate_array(arr1 , d)\n",
        "for i in range(len(q)):\n",
        "  print(q[i] , end =' ')"
      ],
      "metadata": {
        "colab": {
          "base_uri": "https://localhost:8080/"
        },
        "id": "F3KkULRj10At",
        "outputId": "9930d983-dd5b-4de5-e577-682584a78884"
      },
      "execution_count": null,
      "outputs": [
        {
          "output_type": "stream",
          "name": "stdout",
          "text": [
            "7\n",
            "3 2 6 8 5 4 7\n",
            "3\n",
            "8 5 4 7 3 2 6 "
          ]
        }
      ]
    },
    {
      "cell_type": "markdown",
      "source": [
        "**Merge** **two** **sorted** **array**"
      ],
      "metadata": {
        "id": "TdXFl29NxZUn"
      }
    },
    {
      "cell_type": "code",
      "source": [
        "a = int(input())\n",
        "b = int(input())\n",
        "arr1 = [int(x) for x in input().split()]\n",
        "arr2 = [int(x) for x in input().split()]\n",
        "arr3 = []\n",
        "i = 0\n",
        "j = 0\n",
        "while i < a and j < b:\n",
        "  if arr1[i] < arr2[j]:\n",
        "    arr3.append(arr1[i])\n",
        "    i = i+1\n",
        "  else:\n",
        "    arr3.append(arr2[j])\n",
        "    j = j+1\n",
        "\n",
        "while i < a:\n",
        "  arr3.append(arr1[i])\n",
        "  i = i+1\n",
        "\n",
        "while j < b:\n",
        "  arr3.append(arr2[j])\n",
        "  j = j+1\n",
        "\n",
        "for i in range(a+b):\n",
        "  print(arr3[i], end = ' ')"
      ],
      "metadata": {
        "colab": {
          "base_uri": "https://localhost:8080/"
        },
        "id": "K189T2CZxjQQ",
        "outputId": "452fcb1c-2045-4105-e80f-933d635be77b"
      },
      "execution_count": null,
      "outputs": [
        {
          "output_type": "stream",
          "name": "stdout",
          "text": [
            "5\n",
            "4\n",
            "1 3 4 7 11\n",
            "2 4 6 13\n",
            "1 2 3 4 4 6 7 11 13 "
          ]
        }
      ]
    },
    {
      "cell_type": "markdown",
      "source": [
        "**Binary** **search**"
      ],
      "metadata": {
        "id": "X9P1cdJFt1LI"
      }
    },
    {
      "cell_type": "code",
      "source": [
        "def b_search(size, size_l, num, q):\n",
        "  if size >= q:\n",
        "    mid = q + (size-q)//2\n",
        "    if size_l[mid] == num:\n",
        "      return mid\n",
        "    elif size_l[mid]> num:\n",
        "      return b_search(mid-1 , size_l, num, q)\n",
        "    else:\n",
        "      return b_search(mid+1, size_l , num , q)\n",
        "  else:\n",
        "    return -1"
      ],
      "metadata": {
        "id": "TvISv_VDurJj"
      },
      "execution_count": null,
      "outputs": []
    },
    {
      "cell_type": "code",
      "source": [
        "length_of_list = int(input())\n",
        "list1 = [int(x) for x in input().split()]\n",
        "num = int(input())\n",
        "p = b_search(length_of_list-1, list1, num, 0)\n",
        "print(p)"
      ],
      "metadata": {
        "colab": {
          "base_uri": "https://localhost:8080/"
        },
        "id": "NK9ZyqJRt57W",
        "outputId": "e20dab3c-cc15-4b49-959d-5cfc9646704d"
      },
      "execution_count": null,
      "outputs": [
        {
          "name": "stdout",
          "output_type": "stream",
          "text": [
            "7\n"
          ]
        }
      ]
    },
    {
      "cell_type": "markdown",
      "source": [
        "**Bubble** **Sort**"
      ],
      "metadata": {
        "id": "Be84KMhyxfnQ"
      }
    },
    {
      "cell_type": "code",
      "source": [
        "n = int(input())\n",
        "if n == 0:\n",
        "  pass\n",
        "else:\n",
        "  a = [int(i) for i in input().split()]\n",
        "  for i in range(n):\n",
        "    for j in range(i,n):\n",
        "      if a[i] > a[j]:\n",
        "        a[i],a[j] = a[j],a[i]\n",
        "  for i in range(n):\n",
        "    print(a[i] , end =' ')"
      ],
      "metadata": {
        "id": "QP-cWQNVuASz",
        "colab": {
          "base_uri": "https://localhost:8080/"
        },
        "outputId": "0139df12-e81d-4b43-d277-cf000838b029"
      },
      "execution_count": null,
      "outputs": [
        {
          "output_type": "stream",
          "name": "stdout",
          "text": [
            "8\n",
            "8 7 6 5 4 3 2 1\n",
            "1 2 3 4 5 6 7 8 "
          ]
        }
      ]
    },
    {
      "cell_type": "markdown",
      "source": [
        "**Insertion** **sort**"
      ],
      "metadata": {
        "id": "Q_t__gsZ7nXm"
      }
    },
    {
      "cell_type": "code",
      "source": [
        "n = int(input())\n",
        "a = [int(i) for i in input().split()]\n",
        "for i in range(1,n):\n",
        "  value = a[i]\n",
        "  hole = i\n",
        "  while a[i-1] > value and hole >0:\n",
        "    a[i] = a[i-1]\n",
        "    hole = hole-1\n",
        "    i = i-1\n",
        "  a[hole] = value\n",
        "\n",
        "for i in range(n):\n",
        "  print(a[i])"
      ],
      "metadata": {
        "id": "Wb3GSHsRuAP7",
        "colab": {
          "base_uri": "https://localhost:8080/",
          "height": 276
        },
        "outputId": "5794c06b-f821-4ed8-dbd9-a477f6f05a9c"
      },
      "execution_count": null,
      "outputs": [
        {
          "name": "stdout",
          "output_type": "stream",
          "text": [
            "7\n",
            "5 4 3 2 1 7 6\n"
          ]
        },
        {
          "output_type": "error",
          "ename": "IndexError",
          "evalue": "ignored",
          "traceback": [
            "\u001b[0;31m---------------------------------------------------------------------------\u001b[0m",
            "\u001b[0;31mIndexError\u001b[0m                                Traceback (most recent call last)",
            "\u001b[0;32m<ipython-input-17-47b7234c6d8b>\u001b[0m in \u001b[0;36m<module>\u001b[0;34m\u001b[0m\n\u001b[1;32m      2\u001b[0m \u001b[0ma\u001b[0m \u001b[0;34m=\u001b[0m \u001b[0;34m[\u001b[0m\u001b[0mint\u001b[0m\u001b[0;34m(\u001b[0m\u001b[0mi\u001b[0m\u001b[0;34m)\u001b[0m \u001b[0;32mfor\u001b[0m \u001b[0mi\u001b[0m \u001b[0;32min\u001b[0m \u001b[0minput\u001b[0m\u001b[0;34m(\u001b[0m\u001b[0;34m)\u001b[0m\u001b[0;34m.\u001b[0m\u001b[0msplit\u001b[0m\u001b[0;34m(\u001b[0m\u001b[0;34m)\u001b[0m\u001b[0;34m]\u001b[0m\u001b[0;34m\u001b[0m\u001b[0;34m\u001b[0m\u001b[0m\n\u001b[1;32m      3\u001b[0m \u001b[0;32mfor\u001b[0m \u001b[0mi\u001b[0m \u001b[0;32min\u001b[0m \u001b[0;34m(\u001b[0m\u001b[0;36m1\u001b[0m\u001b[0;34m,\u001b[0m\u001b[0mn\u001b[0m\u001b[0;34m)\u001b[0m\u001b[0;34m:\u001b[0m\u001b[0;34m\u001b[0m\u001b[0;34m\u001b[0m\u001b[0m\n\u001b[0;32m----> 4\u001b[0;31m   \u001b[0mvalue\u001b[0m \u001b[0;34m=\u001b[0m \u001b[0ma\u001b[0m\u001b[0;34m[\u001b[0m\u001b[0mi\u001b[0m\u001b[0;34m]\u001b[0m\u001b[0;34m\u001b[0m\u001b[0;34m\u001b[0m\u001b[0m\n\u001b[0m\u001b[1;32m      5\u001b[0m   \u001b[0mhole\u001b[0m \u001b[0;34m=\u001b[0m \u001b[0mi\u001b[0m\u001b[0;34m\u001b[0m\u001b[0;34m\u001b[0m\u001b[0m\n\u001b[1;32m      6\u001b[0m   \u001b[0;32mwhile\u001b[0m \u001b[0ma\u001b[0m\u001b[0;34m[\u001b[0m\u001b[0mi\u001b[0m\u001b[0;34m-\u001b[0m\u001b[0;36m1\u001b[0m\u001b[0;34m]\u001b[0m \u001b[0;34m>\u001b[0m \u001b[0mvalue\u001b[0m \u001b[0;32mand\u001b[0m \u001b[0mhole\u001b[0m \u001b[0;34m>\u001b[0m\u001b[0;36m0\u001b[0m\u001b[0;34m:\u001b[0m\u001b[0;34m\u001b[0m\u001b[0;34m\u001b[0m\u001b[0m\n",
            "\u001b[0;31mIndexError\u001b[0m: list index out of range"
          ]
        }
      ]
    },
    {
      "cell_type": "code",
      "source": [],
      "metadata": {
        "id": "4oXP0qw_uANa"
      },
      "execution_count": null,
      "outputs": []
    },
    {
      "cell_type": "code",
      "source": [],
      "metadata": {
        "id": "V400cIkouAK6"
      },
      "execution_count": null,
      "outputs": []
    },
    {
      "cell_type": "code",
      "source": [],
      "metadata": {
        "id": "7sZWl7OouAIi"
      },
      "execution_count": null,
      "outputs": []
    },
    {
      "cell_type": "code",
      "source": [],
      "metadata": {
        "id": "TOk-lsvZuAFy"
      },
      "execution_count": null,
      "outputs": []
    },
    {
      "cell_type": "code",
      "source": [],
      "metadata": {
        "id": "fgfNB7TAuADD"
      },
      "execution_count": null,
      "outputs": []
    },
    {
      "cell_type": "code",
      "source": [],
      "metadata": {
        "id": "_CouyfJUt_-K"
      },
      "execution_count": null,
      "outputs": []
    },
    {
      "cell_type": "code",
      "source": [],
      "metadata": {
        "id": "FcZnMfTat_7W"
      },
      "execution_count": null,
      "outputs": []
    },
    {
      "cell_type": "code",
      "source": [
        "arr = list(int(i) for i in input().strip().split(' '))\n",
        "a = arr[:-1]\n",
        "print(a)"
      ],
      "metadata": {
        "colab": {
          "base_uri": "https://localhost:8080/"
        },
        "id": "F4t20BB7_QQA",
        "outputId": "d9e37db1-2d8f-4d44-dadf-2e00427682b2"
      },
      "execution_count": null,
      "outputs": [
        {
          "output_type": "stream",
          "name": "stdout",
          "text": [
            "1 2 3 4 5 6 7\n",
            "[1, 2, 3, 4, 5, 6]\n"
          ]
        }
      ]
    },
    {
      "cell_type": "code",
      "execution_count": null,
      "metadata": {
        "colab": {
          "base_uri": "https://localhost:8080/"
        },
        "id": "z5FzopnkpEmF",
        "outputId": "0eb51cf6-18a3-44ac-cdac-819f8a2dac13"
      },
      "outputs": [
        {
          "output_type": "execute_result",
          "data": {
            "text/plain": [
              "[4, 16, 36, 64, 100]"
            ]
          },
          "metadata": {},
          "execution_count": 2
        }
      ],
      "source": [
        "1def squared_numbers(num):\n",
        "  sqr_ = []\n",
        "  for ele in num:\n",
        "    sqr_.append(ele*ele)\n",
        "  return sqr_\n",
        "\n",
        "num = [2,4,6,8,10]\n",
        "squared_numbers(num)"
      ]
    },
    {
      "cell_type": "code",
      "source": [
        "num = [2,3,4,5,6,7]\n",
        "# for ele in range(len(num)):\n",
        "print(range(len(num)))\n",
        "#   print(ele)\n",
        "# for ele1 in range(ele+1 , len(num)):\n",
        "print(range(1,len(num)))"
      ],
      "metadata": {
        "colab": {
          "base_uri": "https://localhost:8080/"
        },
        "id": "_lWwCNVDrNTv",
        "outputId": "781480d9-d3a2-406d-cba7-cdbc805fc198"
      },
      "execution_count": null,
      "outputs": [
        {
          "output_type": "stream",
          "name": "stdout",
          "text": [
            "range(0, 6)\n",
            "range(1, 6)\n"
          ]
        }
      ]
    },
    {
      "cell_type": "code",
      "source": [
        "def duplicate(num):\n",
        "  for ele in range(len(num)):\n",
        "    for ele1 in range(ele+1 , len(num)):\n",
        "      if num[ele] == num[ele1]:\n",
        "        print(num[ele] , \"number is duplicate\")\n",
        "        break\n",
        "num = [2,3,4,5,6,2,4,3,7,10]\n",
        "duplicate(num)"
      ],
      "metadata": {
        "colab": {
          "base_uri": "https://localhost:8080/"
        },
        "id": "BHa0OE2epdP_",
        "outputId": "9452436e-d349-4775-b5b5-51ebdff24823"
      },
      "execution_count": null,
      "outputs": [
        {
          "output_type": "stream",
          "name": "stdout",
          "text": [
            "2 number is duplicate\n",
            "3 number is duplicate\n",
            "4 number is duplicate\n"
          ]
        }
      ]
    },
    {
      "cell_type": "code",
      "source": [
        "l1 = [22,43,65,76,98,100,102]\n",
        "\n",
        "for ele in range(len(l1)):\n",
        "  if l1[ele] == 100:\n",
        "    print(ele)\n",
        "    break"
      ],
      "metadata": {
        "id": "Fjmd0emvqjhN",
        "colab": {
          "base_uri": "https://localhost:8080/"
        },
        "outputId": "dbc6a09e-d97c-4501-a3e9-b55863a5094d"
      },
      "execution_count": null,
      "outputs": [
        {
          "output_type": "stream",
          "name": "stdout",
          "text": [
            "5\n"
          ]
        }
      ]
    },
    {
      "cell_type": "markdown",
      "source": [
        "# ***Stack***"
      ],
      "metadata": {
        "id": "gDdHHzCe64MV"
      }
    },
    {
      "cell_type": "code",
      "source": [
        "stack = []\n",
        "def push_stack():\n",
        "  print('enter the number to push into stack')\n",
        "  x = int(input())\n",
        "  stack.append(x)\n",
        "  print('number inserted into stack')\n",
        "\n",
        "def pop_stack():\n",
        "  q = stack.pop()\n",
        "  print(f'number popped from stack {q}')\n",
        "\n",
        "while True:\n",
        "  print('enter 1 for push 2 for pop and 3 for exit')\n",
        "  w = int(input())\n",
        "  if w == 1:\n",
        "    push_stack()\n",
        "  elif w == 2:\n",
        "    pop_stack()\n",
        "  else:\n",
        "    break;\n",
        "    \n",
        "print('choose correct option')\n"
      ],
      "metadata": {
        "id": "NsSf_z9B8EOK",
        "colab": {
          "base_uri": "https://localhost:8080/"
        },
        "outputId": "486c6fac-6aac-49b5-a547-0ed46ab5f650"
      },
      "execution_count": null,
      "outputs": [
        {
          "output_type": "stream",
          "name": "stdout",
          "text": [
            "enter 1 for push 2 for pop and 3 for exit\n",
            "1\n",
            "enter the number to push into stack\n",
            "23\n",
            "number inserted into stack\n",
            "enter 1 for push 2 for pop and 3 for exit\n",
            "1\n",
            "enter the number to push into stack\n",
            "25\n",
            "number inserted into stack\n",
            "enter 1 for push 2 for pop and 3 for exit\n",
            "2\n",
            "number popped from stack 25\n",
            "enter 1 for push 2 for pop and 3 for exit\n",
            "3\n",
            "choose correct option\n"
          ]
        }
      ]
    },
    {
      "cell_type": "code",
      "source": [
        "import collections\n",
        "dir(collections)"
      ],
      "metadata": {
        "id": "Y62CW6Uo8Edn",
        "colab": {
          "base_uri": "https://localhost:8080/"
        },
        "outputId": "b5fcf764-14eb-49f1-8c37-1fbb8c1e29ed"
      },
      "execution_count": null,
      "outputs": [
        {
          "output_type": "execute_result",
          "data": {
            "text/plain": [
              "['ChainMap',\n",
              " 'Counter',\n",
              " 'OrderedDict',\n",
              " 'UserDict',\n",
              " 'UserList',\n",
              " 'UserString',\n",
              " '_Link',\n",
              " '_OrderedDictItemsView',\n",
              " '_OrderedDictKeysView',\n",
              " '_OrderedDictValuesView',\n",
              " '__all__',\n",
              " '__builtins__',\n",
              " '__cached__',\n",
              " '__doc__',\n",
              " '__file__',\n",
              " '__getattr__',\n",
              " '__loader__',\n",
              " '__name__',\n",
              " '__package__',\n",
              " '__path__',\n",
              " '__spec__',\n",
              " '_chain',\n",
              " '_collections_abc',\n",
              " '_count_elements',\n",
              " '_eq',\n",
              " '_heapq',\n",
              " '_iskeyword',\n",
              " '_itemgetter',\n",
              " '_nt_itemgetters',\n",
              " '_proxy',\n",
              " '_recursive_repr',\n",
              " '_repeat',\n",
              " '_starmap',\n",
              " '_sys',\n",
              " 'abc',\n",
              " 'defaultdict',\n",
              " 'deque',\n",
              " 'namedtuple']"
            ]
          },
          "metadata": {},
          "execution_count": 3
        }
      ]
    },
    {
      "cell_type": "code",
      "source": [
        "stack = collections.deque()\n",
        "stack"
      ],
      "metadata": {
        "colab": {
          "base_uri": "https://localhost:8080/"
        },
        "id": "_wD02DSo9MmT",
        "outputId": "808bcb28-056e-42f1-d547-9daec9068954"
      },
      "execution_count": null,
      "outputs": [
        {
          "output_type": "execute_result",
          "data": {
            "text/plain": [
              "deque([])"
            ]
          },
          "metadata": {},
          "execution_count": 4
        }
      ]
    },
    {
      "cell_type": "code",
      "source": [
        "stack.append(10)\n",
        "stack.append(20)\n",
        "stack.append(30)\n",
        "stack"
      ],
      "metadata": {
        "colab": {
          "base_uri": "https://localhost:8080/"
        },
        "id": "SO-RJ3eo9Ttj",
        "outputId": "ce95b97b-c3a0-45e3-fdc1-0476dc3287d2"
      },
      "execution_count": null,
      "outputs": [
        {
          "output_type": "execute_result",
          "data": {
            "text/plain": [
              "deque([10, 20, 30])"
            ]
          },
          "metadata": {},
          "execution_count": 9
        }
      ]
    },
    {
      "cell_type": "code",
      "source": [
        "stack.pop()"
      ],
      "metadata": {
        "colab": {
          "base_uri": "https://localhost:8080/"
        },
        "id": "AwvKh8d99ddt",
        "outputId": "a9170981-1a73-469f-fbfa-57ff5880aac1"
      },
      "execution_count": null,
      "outputs": [
        {
          "output_type": "execute_result",
          "data": {
            "text/plain": [
              "30"
            ]
          },
          "metadata": {},
          "execution_count": 10
        }
      ]
    },
    {
      "cell_type": "code",
      "source": [
        "stack.pop()"
      ],
      "metadata": {
        "colab": {
          "base_uri": "https://localhost:8080/"
        },
        "id": "dzCsPmsm9rM_",
        "outputId": "a3776d9f-b239-488b-d6d3-ec44bd931482"
      },
      "execution_count": null,
      "outputs": [
        {
          "output_type": "execute_result",
          "data": {
            "text/plain": [
              "20"
            ]
          },
          "metadata": {},
          "execution_count": 11
        }
      ]
    },
    {
      "cell_type": "code",
      "source": [
        "stack.pop()"
      ],
      "metadata": {
        "colab": {
          "base_uri": "https://localhost:8080/"
        },
        "id": "Ez5LnbA79mBR",
        "outputId": "db49d9a3-8c4c-45d3-e9a1-38a71fedd6ff"
      },
      "execution_count": null,
      "outputs": [
        {
          "output_type": "execute_result",
          "data": {
            "text/plain": [
              "10"
            ]
          },
          "metadata": {},
          "execution_count": 12
        }
      ]
    },
    {
      "cell_type": "code",
      "source": [
        "not stack # for checking whether stack has element or not"
      ],
      "metadata": {
        "colab": {
          "base_uri": "https://localhost:8080/"
        },
        "id": "sCozi06K9tBC",
        "outputId": "f9e2c5fb-fea1-47eb-9f81-3b88c7c664c2"
      },
      "execution_count": null,
      "outputs": [
        {
          "output_type": "execute_result",
          "data": {
            "text/plain": [
              "True"
            ]
          },
          "metadata": {},
          "execution_count": 13
        }
      ]
    },
    {
      "cell_type": "code",
      "source": [
        "stack.append(10)\n",
        "stack.append(20)\n",
        "stack.append(30)"
      ],
      "metadata": {
        "id": "KGFvFUZT98PE"
      },
      "execution_count": null,
      "outputs": []
    },
    {
      "cell_type": "code",
      "source": [
        "stack[-1] # for checking top elements"
      ],
      "metadata": {
        "colab": {
          "base_uri": "https://localhost:8080/"
        },
        "id": "zME2F7-c-GhK",
        "outputId": "68fab2ba-db07-41b6-989e-e84575094637"
      },
      "execution_count": null,
      "outputs": [
        {
          "output_type": "execute_result",
          "data": {
            "text/plain": [
              "30"
            ]
          },
          "metadata": {},
          "execution_count": 15
        }
      ]
    },
    {
      "cell_type": "code",
      "source": [
        "import queue\n",
        "dir(queue)"
      ],
      "metadata": {
        "colab": {
          "base_uri": "https://localhost:8080/"
        },
        "id": "WCOsxdK7-KEl",
        "outputId": "d289696b-f657-42ee-b96e-350624e8476c"
      },
      "execution_count": null,
      "outputs": [
        {
          "output_type": "execute_result",
          "data": {
            "text/plain": [
              "['Empty',\n",
              " 'Full',\n",
              " 'LifoQueue',\n",
              " 'PriorityQueue',\n",
              " 'Queue',\n",
              " 'SimpleQueue',\n",
              " '_PySimpleQueue',\n",
              " '__all__',\n",
              " '__builtins__',\n",
              " '__cached__',\n",
              " '__doc__',\n",
              " '__file__',\n",
              " '__loader__',\n",
              " '__name__',\n",
              " '__package__',\n",
              " '__spec__',\n",
              " 'deque',\n",
              " 'heappop',\n",
              " 'heappush',\n",
              " 'threading',\n",
              " 'time']"
            ]
          },
          "metadata": {},
          "execution_count": 3
        }
      ]
    },
    {
      "cell_type": "code",
      "source": [
        "stack = queue.LifoQueue()\n",
        "stack"
      ],
      "metadata": {
        "colab": {
          "base_uri": "https://localhost:8080/"
        },
        "id": "5BOUTjeB-fzk",
        "outputId": "47472f70-2cb4-47de-a51e-c52e9340419e"
      },
      "execution_count": null,
      "outputs": [
        {
          "output_type": "execute_result",
          "data": {
            "text/plain": [
              "<queue.LifoQueue at 0x7feb1b5ba750>"
            ]
          },
          "metadata": {},
          "execution_count": 4
        }
      ]
    },
    {
      "cell_type": "code",
      "source": [
        "stack.put(10) # for inserting the element\n",
        "stack.put(20)\n",
        "stack.put(30)"
      ],
      "metadata": {
        "id": "17hAtyrb-sXd"
      },
      "execution_count": null,
      "outputs": []
    },
    {
      "cell_type": "code",
      "source": [
        "stack.get() # for popping of element"
      ],
      "metadata": {
        "id": "Sdq6KXpz-wvG",
        "colab": {
          "base_uri": "https://localhost:8080/"
        },
        "outputId": "0f501a67-f4f6-4512-f1ba-b7a2b511965f"
      },
      "execution_count": null,
      "outputs": [
        {
          "output_type": "execute_result",
          "data": {
            "text/plain": [
              "30"
            ]
          },
          "metadata": {},
          "execution_count": 6
        }
      ]
    },
    {
      "cell_type": "code",
      "source": [
        "stack.get()"
      ],
      "metadata": {
        "colab": {
          "base_uri": "https://localhost:8080/"
        },
        "id": "WndQjgpBQuwN",
        "outputId": "ade9694e-e8df-4cc7-f131-598c8252a06f"
      },
      "execution_count": null,
      "outputs": [
        {
          "output_type": "execute_result",
          "data": {
            "text/plain": [
              "20"
            ]
          },
          "metadata": {},
          "execution_count": 7
        }
      ]
    },
    {
      "cell_type": "code",
      "source": [
        "stack.get()"
      ],
      "metadata": {
        "colab": {
          "base_uri": "https://localhost:8080/"
        },
        "id": "6UfY4dvFQwJe",
        "outputId": "303c4617-3cdf-40be-f3d4-06ba1b998c00"
      },
      "execution_count": null,
      "outputs": [
        {
          "output_type": "execute_result",
          "data": {
            "text/plain": [
              "10"
            ]
          },
          "metadata": {},
          "execution_count": 8
        }
      ]
    },
    {
      "cell_type": "code",
      "source": [
        "import queue\n",
        "stack_ = queue.LifoQueue(3)\n",
        "stack_.put(10)\n",
        "stack_.put(20)\n",
        "stack_.put(30)"
      ],
      "metadata": {
        "id": "UdlOIUkSQxkn"
      },
      "execution_count": null,
      "outputs": []
    },
    {
      "cell_type": "code",
      "source": [
        "# stack_.put(40, timeout=1)"
      ],
      "metadata": {
        "id": "mc9asVvNRiWY"
      },
      "execution_count": null,
      "outputs": []
    },
    {
      "cell_type": "code",
      "source": [
        "queue = []\n",
        "queue"
      ],
      "metadata": {
        "colab": {
          "base_uri": "https://localhost:8080/"
        },
        "id": "mE9q5R_NRwP5",
        "outputId": "6dc2f6ac-1146-428b-b3d7-a0ebc3b3cfe9"
      },
      "execution_count": null,
      "outputs": [
        {
          "output_type": "execute_result",
          "data": {
            "text/plain": [
              "[]"
            ]
          },
          "metadata": {},
          "execution_count": 16
        }
      ]
    },
    {
      "cell_type": "code",
      "source": [
        "queue.append(10)\n",
        "print(queue)\n",
        "queue.append(20)\n",
        "print(queue)\n",
        "queue.append(30)\n",
        "print(queue)"
      ],
      "metadata": {
        "colab": {
          "base_uri": "https://localhost:8080/"
        },
        "id": "yOouDktqTq5e",
        "outputId": "7de55a89-067a-4c6c-a32c-dc39da45c8c5"
      },
      "execution_count": null,
      "outputs": [
        {
          "output_type": "stream",
          "name": "stdout",
          "text": [
            "[10]\n",
            "[10, 20]\n",
            "[10, 20, 30]\n"
          ]
        }
      ]
    },
    {
      "cell_type": "code",
      "source": [
        "queue.pop(0)"
      ],
      "metadata": {
        "colab": {
          "base_uri": "https://localhost:8080/"
        },
        "id": "WQktWRNST3VS",
        "outputId": "bc205062-1493-4873-d3df-c620776fce5f"
      },
      "execution_count": null,
      "outputs": [
        {
          "output_type": "execute_result",
          "data": {
            "text/plain": [
              "10"
            ]
          },
          "metadata": {},
          "execution_count": 18
        }
      ]
    },
    {
      "cell_type": "code",
      "source": [
        "queue.pop(0)"
      ],
      "metadata": {
        "colab": {
          "base_uri": "https://localhost:8080/"
        },
        "id": "CxfcxDLsUM1L",
        "outputId": "0519a67c-5689-4870-d79a-3c808723c43c"
      },
      "execution_count": null,
      "outputs": [
        {
          "output_type": "execute_result",
          "data": {
            "text/plain": [
              "20"
            ]
          },
          "metadata": {},
          "execution_count": 19
        }
      ]
    },
    {
      "cell_type": "code",
      "source": [
        "queue.pop(0)"
      ],
      "metadata": {
        "colab": {
          "base_uri": "https://localhost:8080/"
        },
        "id": "O6jyPGYfUOac",
        "outputId": "8753f709-c81d-4ede-a01a-c77e3f7acae4"
      },
      "execution_count": null,
      "outputs": [
        {
          "output_type": "execute_result",
          "data": {
            "text/plain": [
              "30"
            ]
          },
          "metadata": {},
          "execution_count": 20
        }
      ]
    },
    {
      "cell_type": "code",
      "source": [
        "# queue.pop(0)"
      ],
      "metadata": {
        "id": "H0yXS2wgURrK"
      },
      "execution_count": null,
      "outputs": []
    },
    {
      "cell_type": "code",
      "source": [
        "queue = []\n",
        "queue"
      ],
      "metadata": {
        "colab": {
          "base_uri": "https://localhost:8080/"
        },
        "id": "z9eSuXKrUUZq",
        "outputId": "f6736f0d-5873-478d-baf1-0ccd2d85343f"
      },
      "execution_count": null,
      "outputs": [
        {
          "output_type": "execute_result",
          "data": {
            "text/plain": [
              "[]"
            ]
          },
          "metadata": {},
          "execution_count": 23
        }
      ]
    },
    {
      "cell_type": "code",
      "source": [
        "queue.insert(0,10)\n",
        "queue"
      ],
      "metadata": {
        "colab": {
          "base_uri": "https://localhost:8080/"
        },
        "id": "S0eJbasnV5tV",
        "outputId": "1fa9cc71-706e-45ec-fbd9-1888caf57301"
      },
      "execution_count": null,
      "outputs": [
        {
          "output_type": "execute_result",
          "data": {
            "text/plain": [
              "[10]"
            ]
          },
          "metadata": {},
          "execution_count": 24
        }
      ]
    },
    {
      "cell_type": "code",
      "source": [
        "queue.insert(0,20)\n",
        "queue"
      ],
      "metadata": {
        "colab": {
          "base_uri": "https://localhost:8080/"
        },
        "id": "aoVkLMu3V9QY",
        "outputId": "64b89eb9-569a-4255-f24d-a1a31b481bbc"
      },
      "execution_count": null,
      "outputs": [
        {
          "output_type": "execute_result",
          "data": {
            "text/plain": [
              "[20, 10]"
            ]
          },
          "metadata": {},
          "execution_count": 25
        }
      ]
    },
    {
      "cell_type": "code",
      "source": [
        "queue.insert(0,30)\n",
        "queue"
      ],
      "metadata": {
        "colab": {
          "base_uri": "https://localhost:8080/"
        },
        "id": "nS0ISHQeV_vn",
        "outputId": "a72d49e7-77bd-4669-8256-743f0b16fc93"
      },
      "execution_count": null,
      "outputs": [
        {
          "output_type": "execute_result",
          "data": {
            "text/plain": [
              "[30, 20, 10]"
            ]
          },
          "metadata": {},
          "execution_count": 26
        }
      ]
    },
    {
      "cell_type": "code",
      "source": [
        "queue.pop()"
      ],
      "metadata": {
        "colab": {
          "base_uri": "https://localhost:8080/"
        },
        "id": "Ge064HqiWBdl",
        "outputId": "be539901-f06e-4a46-895a-df134f6ac624"
      },
      "execution_count": null,
      "outputs": [
        {
          "output_type": "execute_result",
          "data": {
            "text/plain": [
              "10"
            ]
          },
          "metadata": {},
          "execution_count": 27
        }
      ]
    },
    {
      "cell_type": "code",
      "source": [
        "queue.pop()\n",
        "queue"
      ],
      "metadata": {
        "colab": {
          "base_uri": "https://localhost:8080/"
        },
        "id": "UbfVmUNSWMCI",
        "outputId": "0d34c7f9-3b4c-4445-d95f-22820c1f3a05"
      },
      "execution_count": null,
      "outputs": [
        {
          "output_type": "execute_result",
          "data": {
            "text/plain": [
              "[30]"
            ]
          },
          "metadata": {},
          "execution_count": 28
        }
      ]
    },
    {
      "cell_type": "code",
      "source": [
        "queue.pop()"
      ],
      "metadata": {
        "colab": {
          "base_uri": "https://localhost:8080/"
        },
        "id": "EGwD3SJqWPLR",
        "outputId": "791b4f47-c66b-4b08-cad9-cdaa3eec6f47"
      },
      "execution_count": null,
      "outputs": [
        {
          "output_type": "execute_result",
          "data": {
            "text/plain": [
              "30"
            ]
          },
          "metadata": {},
          "execution_count": 29
        }
      ]
    },
    {
      "cell_type": "code",
      "source": [
        "queue = []\n",
        "not queue"
      ],
      "metadata": {
        "colab": {
          "base_uri": "https://localhost:8080/"
        },
        "id": "41RAJkfGWQ5X",
        "outputId": "98db908a-df13-4b19-9958-d47a93398b0a"
      },
      "execution_count": null,
      "outputs": [
        {
          "output_type": "execute_result",
          "data": {
            "text/plain": [
              "True"
            ]
          },
          "metadata": {},
          "execution_count": 30
        }
      ]
    },
    {
      "cell_type": "code",
      "source": [
        "queue.append(10)\n",
        "queue"
      ],
      "metadata": {
        "colab": {
          "base_uri": "https://localhost:8080/"
        },
        "id": "D7D45puLWfnB",
        "outputId": "6dc879da-b52d-4662-f163-d1783621251f"
      },
      "execution_count": null,
      "outputs": [
        {
          "output_type": "execute_result",
          "data": {
            "text/plain": [
              "[10]"
            ]
          },
          "metadata": {},
          "execution_count": 31
        }
      ]
    },
    {
      "cell_type": "code",
      "source": [
        "queue.append(10)\n",
        "queue"
      ],
      "metadata": {
        "colab": {
          "base_uri": "https://localhost:8080/"
        },
        "id": "EyfIFVsFZcKz",
        "outputId": "6858f683-7828-4634-8673-a8780727fe8f"
      },
      "execution_count": null,
      "outputs": [
        {
          "output_type": "execute_result",
          "data": {
            "text/plain": [
              "[10, 10]"
            ]
          },
          "metadata": {},
          "execution_count": 32
        }
      ]
    },
    {
      "cell_type": "code",
      "source": [
        "queue.insert(1,20)"
      ],
      "metadata": {
        "id": "id8jPbkfZdin"
      },
      "execution_count": null,
      "outputs": []
    },
    {
      "cell_type": "code",
      "source": [
        "queue"
      ],
      "metadata": {
        "colab": {
          "base_uri": "https://localhost:8080/"
        },
        "id": "Kr4Qo1cDZjqo",
        "outputId": "3135ab40-5864-40c2-cf0c-e07abd7baf46"
      },
      "execution_count": null,
      "outputs": [
        {
          "output_type": "execute_result",
          "data": {
            "text/plain": [
              "[10, 20, 10]"
            ]
          },
          "metadata": {},
          "execution_count": 34
        }
      ]
    },
    {
      "cell_type": "code",
      "source": [
        "queue[-1]"
      ],
      "metadata": {
        "colab": {
          "base_uri": "https://localhost:8080/"
        },
        "id": "KtdnyJ4EZlCG",
        "outputId": "e8461d83-3107-4b1e-bcec-e1fccb6f2d45"
      },
      "execution_count": null,
      "outputs": [
        {
          "output_type": "execute_result",
          "data": {
            "text/plain": [
              "10"
            ]
          },
          "metadata": {},
          "execution_count": 35
        }
      ]
    },
    {
      "cell_type": "code",
      "source": [
        "queue[0]"
      ],
      "metadata": {
        "colab": {
          "base_uri": "https://localhost:8080/"
        },
        "id": "WSqXYGkQZorQ",
        "outputId": "4d3db149-2e64-4e2a-e726-0e1ef6df86c9"
      },
      "execution_count": null,
      "outputs": [
        {
          "output_type": "execute_result",
          "data": {
            "text/plain": [
              "10"
            ]
          },
          "metadata": {},
          "execution_count": 36
        }
      ]
    },
    {
      "cell_type": "markdown",
      "source": [
        "# ***Queue***"
      ],
      "metadata": {
        "id": "qFD0Lp28Z209"
      }
    },
    {
      "cell_type": "code",
      "source": [
        "queue_ = []\n",
        "\n",
        "def enqueu():\n",
        "  x = int(input('enter the element'))\n",
        "  queue_.append(x)\n",
        "  print('element is inserted in queue')\n",
        "\n",
        "\n",
        "def dequeue():\n",
        "  if not queue_:\n",
        "    print('queue is empty')\n",
        "  else:\n",
        "    q = queue_.pop()\n",
        "    print(f'element popped from the queue is {q}')\n",
        "  \n",
        "def show():\n",
        "  print(queue_)\n",
        "\n",
        "while True:\n",
        "  print('enter 1 for insert 2 for pop 3 for show and 4 for exit')\n",
        "  choice = int(input())\n",
        "  if choice == 1:\n",
        "    enqueu()\n",
        "  elif choice == 2:\n",
        "    dequeue()\n",
        "  elif choice == 3:\n",
        "    show()\n",
        "  elif choice == 4:\n",
        "    break\n",
        "  else:\n",
        "    print('enter the correct operation')"
      ],
      "metadata": {
        "colab": {
          "base_uri": "https://localhost:8080/"
        },
        "id": "A3YPeShdZs0x",
        "outputId": "2eefbd15-ae7d-4931-a052-6459e8cdd489"
      },
      "execution_count": null,
      "outputs": [
        {
          "name": "stdout",
          "output_type": "stream",
          "text": [
            "enter 1 for insert 2 for pop 3 for show and 4 for exit\n",
            "1\n",
            "enter the element10\n",
            "element is inserted in queue\n",
            "enter 1 for insert 2 for pop 3 for show and 4 for exit\n",
            "1\n",
            "enter the element20\n",
            "element is inserted in queue\n",
            "enter 1 for insert 2 for pop 3 for show and 4 for exit\n",
            "1\n",
            "enter the element30\n",
            "element is inserted in queue\n",
            "enter 1 for insert 2 for pop 3 for show and 4 for exit\n",
            "1\n",
            "enter the element40\n",
            "element is inserted in queue\n",
            "enter 1 for insert 2 for pop 3 for show and 4 for exit\n",
            "3\n",
            "[10, 20, 30, 40]\n",
            "enter 1 for insert 2 for pop 3 for show and 4 for exit\n",
            "2\n",
            "element popped from the queue is 40\n",
            "enter 1 for insert 2 for pop 3 for show and 4 for exit\n",
            "2\n",
            "element popped from the queue is 30\n",
            "enter 1 for insert 2 for pop 3 for show and 4 for exit\n",
            "4\n"
          ]
        }
      ]
    },
    {
      "cell_type": "markdown",
      "source": [
        "# ***Stack using list with wrapper class***"
      ],
      "metadata": {
        "id": "SlmljNvTLgaq"
      }
    },
    {
      "cell_type": "code",
      "source": [
        "class Stack():\n",
        "  def __init__(self):\n",
        "    self.stack = list()\n",
        "  \n",
        "  def push(self , item):\n",
        "    self.stack.append(item)\n",
        "\n",
        "  def pop(self):\n",
        "    if len(self.stack) > 0:\n",
        "      return self.stack.pop()\n",
        "    else:\n",
        "      return None\n",
        "  \n",
        "  def peek(self):\n",
        "    if len(self.stack) > 0:\n",
        "      return self.stack[len(self.stack) - 1]\n",
        "    else:\n",
        "      return None\n",
        "    \n",
        "  def __str__(self):\n",
        "    return str(self.stack)"
      ],
      "metadata": {
        "id": "wRj4r7pAbA61"
      },
      "execution_count": null,
      "outputs": []
    },
    {
      "cell_type": "markdown",
      "source": [
        "# ***Test code for stack wrapper class***"
      ],
      "metadata": {
        "id": "8jaHoIiZNGjv"
      }
    },
    {
      "cell_type": "code",
      "source": [
        "my_stack = Stack()\n",
        "print(my_stack.stack)"
      ],
      "metadata": {
        "colab": {
          "base_uri": "https://localhost:8080/"
        },
        "id": "K8Y_ELnANp4P",
        "outputId": "0dcad030-c2ba-40e7-a54b-d916b51db296"
      },
      "execution_count": null,
      "outputs": [
        {
          "output_type": "stream",
          "name": "stdout",
          "text": [
            "[]\n"
          ]
        }
      ]
    },
    {
      "cell_type": "code",
      "source": [
        "print(my_stack.stack)"
      ],
      "metadata": {
        "colab": {
          "base_uri": "https://localhost:8080/"
        },
        "id": "tXvYMAPJOAfk",
        "outputId": "ab7bdd58-637c-4914-d8ee-114d9c7749cf"
      },
      "execution_count": null,
      "outputs": [
        {
          "output_type": "stream",
          "name": "stdout",
          "text": [
            "[1, 2, 3, 4, 5]\n"
          ]
        }
      ]
    },
    {
      "cell_type": "code",
      "source": [
        "print(my_stack)"
      ],
      "metadata": {
        "colab": {
          "base_uri": "https://localhost:8080/"
        },
        "id": "nQVti5S2OLdw",
        "outputId": "37643c2a-4fc2-4126-fa0a-70da0529470c"
      },
      "execution_count": null,
      "outputs": [
        {
          "output_type": "stream",
          "name": "stdout",
          "text": [
            "[1, 2, 3, 4, 5, 6, 7]\n"
          ]
        }
      ]
    },
    {
      "cell_type": "code",
      "source": [
        "my_stack.push(7)"
      ],
      "metadata": {
        "id": "Rur3uSe5N2Vv"
      },
      "execution_count": null,
      "outputs": []
    },
    {
      "cell_type": "code",
      "source": [
        "print(my_stack.pop())"
      ],
      "metadata": {
        "colab": {
          "base_uri": "https://localhost:8080/"
        },
        "id": "MBz69EemObiy",
        "outputId": "e47f3cc0-3a78-4802-8f0b-f3d8016c34af"
      },
      "execution_count": null,
      "outputs": [
        {
          "output_type": "stream",
          "name": "stdout",
          "text": [
            "None\n"
          ]
        }
      ]
    },
    {
      "cell_type": "code",
      "source": [
        "print(my_stack.peek())"
      ],
      "metadata": {
        "colab": {
          "base_uri": "https://localhost:8080/"
        },
        "id": "qzbq5ac5PBXe",
        "outputId": "72c5d950-cd8c-4db6-9dbd-256c5989973d"
      },
      "execution_count": null,
      "outputs": [
        {
          "output_type": "stream",
          "name": "stdout",
          "text": [
            "7\n"
          ]
        }
      ]
    },
    {
      "cell_type": "code",
      "source": [
        "# my_stack = Stack()\n",
        "# my_stack.push(1)\n",
        "# my_stack.push(9)\n",
        "# print(my_stack)\n",
        "# print(my_stack.pop())\n",
        "# print(my_stack.peek())\n",
        "# print(my_stack.pop())\n",
        "# print(my_stack.pop())"
      ],
      "metadata": {
        "id": "uP9WlYP1NF1c"
      },
      "execution_count": null,
      "outputs": []
    },
    {
      "cell_type": "markdown",
      "source": [
        "# ***Queue using python dequeue***"
      ],
      "metadata": {
        "id": "wkISbeklPYjM"
      }
    },
    {
      "cell_type": "code",
      "source": [
        "from collections import deque\n",
        "my_queue = deque()\n",
        "my_queue.append(5)\n",
        "my_queue.append(10)\n",
        "my_queue.append(15)\n",
        "my_queue.append(20)\n",
        "print(my_queue)\n",
        "print(my_queue.popleft())"
      ],
      "metadata": {
        "colab": {
          "base_uri": "https://localhost:8080/"
        },
        "id": "716BfLyTNhXU",
        "outputId": "ca49738f-09ef-44e8-a76f-26ade364abb1"
      },
      "execution_count": null,
      "outputs": [
        {
          "output_type": "stream",
          "name": "stdout",
          "text": [
            "deque([5, 10, 15, 20])\n",
            "5\n"
          ]
        }
      ]
    },
    {
      "cell_type": "markdown",
      "source": [
        "# ***Python maxheap***"
      ],
      "metadata": {
        "id": "aerww7waQhya"
      }
    },
    {
      "cell_type": "code",
      "source": [
        "class MaxHeap:\n",
        "  def __init__(self , items = []):\n",
        "    super().__init__()\n",
        "    self.heap = [0]\n",
        "    print(self.heap)\n",
        "    for item in items: \n",
        "      print(item)\n",
        "      self.heap.append(item)\n",
        "      self.__floatUp(len(self.heap)-1)\n",
        "\n",
        "  def push(self , data):\n",
        "    self.heap.append(data)\n",
        "    self.__floatUp(len(self.heap) -1)\n",
        "\n",
        "  def peek(self):\n",
        "    if self.heap[1]:\n",
        "      return self.heap[1]\n",
        "    else:\n",
        "      return False \n",
        "  \n",
        "  def pop(self):\n",
        "    if len(self.heap) > 2:\n",
        "      self.__swap(1 , len(self.heap) -1)\n",
        "      max = self.heap.pop()\n",
        "      self.__bubbleDown(1)\n",
        "    \n",
        "    elif len(self.heap) == 2:\n",
        "      max = self.heap.pop()\n",
        "\n",
        "    else:\n",
        "      max = False\n",
        "\n",
        "    return max\n",
        "\n",
        "  def __swap(self , i , j):\n",
        "    self.heap[i] , self.heap[j] = self.heap[j] , self.heap[i]\n",
        "\n",
        "  def __floatUp(self , index):\n",
        "    parent = index // 2\n",
        "    if index <= 1:\n",
        "      return\n",
        "    elif self.heap[index] > self.heap[parent]:\n",
        "      self.__swap(index,parent)\n",
        "      self.__floatUp(parent)\n",
        "\n",
        "\n",
        "  def __bubbleDown(self , index):\n",
        "    left = index * 2\n",
        "    right = index * 2 + 1\n",
        "    largest = index\n",
        "    if len(self.heap) > left and self.heap[largest] < self.heap[left]:\n",
        "      largest = left\n",
        "    if len(self.heap) > right and self.heap[largest] < self.heap[right]:\n",
        "      largest = right\n",
        "    if largest != index:\n",
        "      self.__swap(index , largest)\n",
        "      self.__bubbleDown(largest)\n",
        "\n",
        "  def __str__(self):\n",
        "    return str(self.heap)\n"
      ],
      "metadata": {
        "id": "Otc8xZdHPz3K"
      },
      "execution_count": null,
      "outputs": []
    },
    {
      "cell_type": "markdown",
      "source": [
        "# ***Max Heap Test Code***"
      ],
      "metadata": {
        "id": "ss8E1zOFVdrU"
      }
    },
    {
      "cell_type": "code",
      "source": [
        "m = MaxHeap([95 , 3 , 21])\n",
        "m.push(10)\n",
        "print(m)\n",
        "print(m.pop())\n",
        "print(m.peek())"
      ],
      "metadata": {
        "colab": {
          "base_uri": "https://localhost:8080/"
        },
        "id": "wkrIy9MbUihV",
        "outputId": "32ce7b74-0e07-4dd0-b728-d5fdfb33f6c8"
      },
      "execution_count": null,
      "outputs": [
        {
          "output_type": "stream",
          "name": "stdout",
          "text": [
            "[0]\n",
            "95\n",
            "3\n",
            "21\n",
            "[0, 95, 10, 21, 3]\n",
            "95\n",
            "21\n"
          ]
        }
      ]
    },
    {
      "cell_type": "code",
      "source": [],
      "metadata": {
        "id": "ajHTtFAmVy3I"
      },
      "execution_count": null,
      "outputs": []
    }
  ]
}